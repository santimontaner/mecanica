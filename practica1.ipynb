{
 "nbformat": 4,
 "nbformat_minor": 2,
 "metadata": {
  "language_info": {
   "name": "python",
   "codemirror_mode": {
    "name": "ipython",
    "version": 3
   },
   "version": "3.7.5-final"
  },
  "orig_nbformat": 2,
  "file_extension": ".py",
  "mimetype": "text/x-python",
  "name": "python",
  "npconvert_exporter": "python",
  "pygments_lexer": "ipython3",
  "version": 3,
  "kernelspec": {
   "name": "python37564bitpython37envconda83e9a9a5fb3b4f2199a699cf03b57603",
   "display_name": "Python 3.7.5 64-bit ('python37env': conda)"
  }
 },
 "cells": [
  {
   "cell_type": "code",
   "execution_count": 3,
   "metadata": {},
   "outputs": [],
   "source": [
    "import numpy as np\n",
    "import pandas as pd\n",
    "import matplotlib.pyplot as plt\n",
    "from matplotlib import rc\n",
    "rc('text', usetex=True)\n",
    "\n",
    "def momento_inercia_experimental(T, K, Kerror):\n",
    "    \"\"\"La funcion devuelve el momento de inercia\n",
    "    y el error a partir de:\n",
    "\n",
    "    T: periodo\n",
    "    K: constante recuperacion del muelle\n",
    "    Kerror: error de la constante de recuperacion del muelle\n",
    "    \"\"\"    \n",
    "    momento = T**2/(4*np.pi**2)*K\n",
    "    error_momento = T**2/(4*np.pi**2)*Kerror\n",
    "    \n",
    "    return momento, error_momento\n"
   ]
  },
  {
   "cell_type": "markdown",
   "metadata": {},
   "source": [
    "# Práctica 1: obtención de momentos de inercia"
   ]
  },
  {
   "cell_type": "markdown",
   "metadata": {},
   "source": [
    "\n",
    "\n",
    "\n"
   ]
  },
  {
   "cell_type": "markdown",
   "metadata": {},
   "source": [
    "## 1. Determinación de la constante de recuperación del muelle espiral"
   ]
  },
  {
   "cell_type": "markdown",
   "metadata": {},
   "source": [
    "Para la determinación de la constante de recuperación del muelle se ha seguido el método consistente\n",
    "en relizar distintas mediciones de la fuerza $F$ necesaria para mantener la varilla en equilibro.\n",
    "Todas las mediciones de la fuerza han sido realizadas colocando el dinamómetro a la misma distancia ($d=0,302$ m) \n",
    "del soporte para objetos del muelle espiral. En las distintas mediciones ha variado el ángulo $\\phi$ de rotación del\n",
    "muelle con respecto al ángulo de equilibro, se ha tomado medida de dicho ángulo visualmente. \n",
    "\n",
    "La siguiente tabla muestra los distintos valores obtenidos para la **fuerza** $F$ para cada uno de los\n",
    "**ángulos** medidos para $\\phi$. La tercera columna muestra el **momento de fuerza** $\\Gamma=F·d$ sobre el punto donde de ha medido\n",
    "la fuerza.\n",
    "$$\n",
    "\\begin{array} {|r|r|r|}\n",
    "\\hline \\phi\\ (rad) & F\\ (N) & \\Gamma\\ (N\\cdot m) \\\\\n",
    "\\hline \\pi & 0,40 & 0,1208 \\\\\n",
    "\\hline 2\\pi & 0,60 & 0,1812 \\\\\n",
    "\\hline 3\\pi & 1,10 & 0,3322 \\\\\n",
    "\\hline 4\\pi & 1,25 & 0,3775 \\\\\n",
    "\\hline 5\\pi & 1,55 & 0,4681 \\\\\n",
    "\\hline 6\\pi & 1,70 & 0,5134 \\\\\n",
    "\\hline \n",
    "\\end{array}\n",
    "$$"
   ]
  },
  {
   "cell_type": "code",
   "execution_count": 4,
   "metadata": {},
   "outputs": [
    {
     "name": "stdout",
     "output_type": "stream",
     "text": "Constante recuperación del muelle:  0.026092316098894147\nOrdenada en el origen:  0.045299999999999875\nError constante del muelle:  0.0021713460079364408\nError ordenada en el origen:  0.026565866033224632\n"
    }
   ],
   "source": [
    "# Obtención de la regresión\n",
    "phi = np.pi*np.array([1,2,3,4,5,6])\n",
    "d = 0.302\n",
    "forces = np.array([0.4,0.6,1.1,1.25,1.55,1.7])\n",
    "torque = d*forces\n",
    "coeffs, residuals =  np.polyfit(phi, torque, deg=1, cov=True)\n",
    "\n",
    "k, intercept = coeffs[0], coeffs[1]\n",
    "k_error = np.sqrt(residuals)[0,0]\n",
    "intercept_error = np.sqrt(residuals)[1,1]\n",
    "\n",
    "print(\"Constante recuperación del muelle: \", k)\n",
    "print(\"Ordenada en el origen: \", intercept)\n",
    "print(\"Error constante del muelle: \", k_error)\n",
    "print(\"Error ordenada en el origen: \", intercept_error)\n",
    "\n",
    "# Plot de la regresión\n",
    "plt.plot(phi, k*phi + intercept)\n",
    "ax = plt.gca()\n",
    "fig = plt.gcf()\n",
    "plt.plot(phi, torque,'.')\n",
    "ax.set_xlabel('$\\phi\\ (rad)$')\n",
    "ax.set_ylabel('$\\Gamma\\ (N\\cdot m)$')\n",
    "fig.suptitle(\"$\\Gamma\\ vs.\\ \\phi$\")\n",
    "fig.savefig('regression_plot.png', dpi=150)\n",
    "plt.close()"
   ]
  },
  {
   "cell_type": "markdown",
   "metadata": {},
   "source": [
    "Calculando la regresión  lineal:\n",
    "\n",
    "$\\Gamma = K \\phi + b$ \n",
    "\n",
    "se obtienen los siguientes resultados:\n",
    "\n",
    "Constante de recuperación:\n",
    "\n",
    "$K \\pm \\Delta K = 0.026 \\pm 0.002$\n",
    "\n",
    "Ordenada en el origen:\n",
    "\n",
    "$b \\pm \\Delta b = 0.045 \\pm 0.026$\n",
    "\n",
    "![Gráfico: ángulo vs. momento de fuerza](regression_plot.png)\n"
   ]
  },
  {
   "cell_type": "markdown",
   "metadata": {},
   "source": [
    "## 2. Determinación experimental de momentos de inercia\n",
    "\n",
    "La determinación experimental de los momentos de inercia se ha realizado utilizando ecuación\n",
    "$$ I_z = K\\frac{T^2}{4\\pi^2} $$\n",
    "que relaciona el momento de inercia  de los cuerpos $I_z$, la constante de recuperación del muelle $K$ obtenida en la sección anterior, y el periodo de oscilación $T$.\n",
    "El periodo de oscilación $T$ hace referencia al periodo de oscilación del movimiento armónico simple que describe de manera aproximada la dinámica del sistema formado por el muelle espiral y el sólido acoplado a él.\n",
    "\n",
    "Para cada uno de los sólidos se han realizado 3 mediciones de los semiperiodos. Las mediciones de los semiperiodos se han realizado rotando el muelle un cierto ángulo y liberando el sistema, dejando que este realizase 3 oscilaciones. Mediciones has sido anotadas en *segundos* con 3 cifras significtivas, habiendose redondeado la tercera cifra significativa.\n",
    "\n",
    "Se ha estimado que el periodo asociado a cada cuerpo es la media de los 3 periodos obtenidos, denotada por $\\overline{T}$.\n",
    "\n",
    "El error en la determinación experimental del momento de inercia será igual a \n",
    "$\\Delta I_z = \\Delta K \\frac{\\overline{T}^2}{4\\pi^2}$ ."
   ]
  },
  {
   "cell_type": "markdown",
   "metadata": {},
   "source": [
    "### 2.1 Disco\n",
    "\n",
    "Semiperiodos obtenidos: \n",
    "\n",
    "$$\n",
    "\\begin{array} {|r|r|r|r|}\n",
    "\\hline T/2\\ (s) & 0,92 & 0,93 & 0,93 \\\\\n",
    "\\hline \n",
    "\\end{array}\n",
    "$$\n",
    "\n",
    "Periodo medio: $\\overline{T} = 1.85\\ s$\n",
    "\n",
    "#### Momento de inercia experimental:\n",
    "\n",
    "\n",
    "\n"
   ]
  },
  {
   "cell_type": "code",
   "execution_count": 13,
   "metadata": {},
   "outputs": [
    {
     "name": "stdout",
     "output_type": "stream",
     "text": "Periodo: 1.853e+00\nMomento de inercia: 2.270e-03\nError momento de inercia: 1.889e-04\n"
    }
   ],
   "source": [
    "T = 2*np.mean([.92,.93,.93])\n",
    "momento, error_momento = momento_inercia_experimental(T, k, k_error)\n",
    "print(\"Periodo: {:.3e}\".format(T))\n",
    "print(\"Momento de inercia: {:.3e}\".format(momento))\n",
    "print(\"Error momento de inercia: {:.3e}\".format(error_momento))"
   ]
  },
  {
   "cell_type": "markdown",
   "metadata": {},
   "source": [
    "$I_z \\pm \\Delta I_z = 2,270 \\cdot 10^{-3} \\pm 0,189\\cdot 10^{-3}\\ kg\\cdot m^2 $\n",
    "\n",
    "#### Momento de inercia teórico:\n",
    "\n",
    "Las mediciones del sólido han dado los siguientes valores:\n",
    "\n",
    "Masa: m = 0,358 kg\n",
    "\n",
    "Diámetro: d = 0,224 m \n",
    "\n",
    "El momento de inercia teórico del disco es\n",
    "\n"
   ]
  },
  {
   "cell_type": "code",
   "execution_count": 11,
   "metadata": {},
   "outputs": [
    {
     "name": "stdout",
     "output_type": "stream",
     "text": "Momento de inercia teórico del disco:  2.245e-03\n"
    }
   ],
   "source": [
    "m=0.358\n",
    "d=0.224\n",
    "momento_teorico_disco = 0.5 * m *(d/2)**2\n",
    "print(\"Momento de inercia teórico del disco:  {:.3e}\".format(momento_teorico_disco))"
   ]
  },
  {
   "cell_type": "markdown",
   "metadata": {},
   "source": [
    "$I_z(disco) = \\frac{1}{2}m (d/2)^2 = 2,245\\cdot 10 ^{-3}\\ kg\\cdot m^2$\n",
    "\n"
   ]
  },
  {
   "cell_type": "code",
   "execution_count": null,
   "metadata": {},
   "outputs": [],
   "source": []
  },
  {
   "cell_type": "markdown",
   "metadata": {},
   "source": [
    "### 2.2 Varilla (sin masas)\n",
    "\n",
    "Semiperiodos obtenidos: \n",
    "\n",
    "$$\n",
    "\\begin{array} {|r|r|r|}\n",
    "\\hline T/2\\ (s) & 1,14 & 1,15 & 1,16 \\\\\n",
    "\\hline \n",
    "\\end{array}\n",
    "$$\n",
    "\n"
   ]
  },
  {
   "cell_type": "code",
   "execution_count": 10,
   "metadata": {},
   "outputs": [
    {
     "name": "stdout",
     "output_type": "stream",
     "text": "Periodo:  2.3000000000000003\nMomento de inercia: 3.496e-03\nError momento de inercia: 2.910e-04\n"
    }
   ],
   "source": [
    "T = 2*np.mean([1.14,1.15,1.16])\n",
    "momento, error_momento = momento_inercia_experimental(T, k, k_error)\n",
    "print(\"Periodo: \",T)\n",
    "print(\"Momento de inercia: {0:.3e}\".format(momento))\n",
    "print(\"Error momento de inercia: {0:.3e}\".format(error_momento))"
   ]
  },
  {
   "cell_type": "markdown",
   "metadata": {},
   "source": [
    "Periodo medio: $\\overline{T} = 2,3\\ s$\n",
    "\n",
    "#### Momento de inercia experimental:\n",
    "\n",
    "$I_z \\pm \\Delta I_z = 3,496 \\cdot 10^{-3} \\pm 0.29 \\cdot 10^{-3}\\ kg\\cdot m^2$\n",
    "\n",
    "#### Momento de inercia teórico:\n",
    "\n",
    "Las mediciones del sólido han dado los siguientes valores:\n",
    "\n",
    "Masa:  m = 0,1312 kg\n",
    "\n",
    "Longitud: l = 0,605 m\n",
    "\n"
   ]
  },
  {
   "cell_type": "code",
   "execution_count": 14,
   "metadata": {},
   "outputs": [
    {
     "name": "stdout",
     "output_type": "stream",
     "text": "Momento de inercia teórico de la varilla: 4.002e-03\n"
    }
   ],
   "source": [
    "m=0.1312\n",
    "l=0.605\n",
    "momento_teorico_varilla = m * l**2/12\n",
    "print(\"Momento de inercia teórico de la varilla: {:.3e}\".format(momento_teorico_varilla) )\n"
   ]
  },
  {
   "cell_type": "markdown",
   "metadata": {},
   "source": [
    "El momento de inercia teórico de la varilla es\n",
    "\n",
    "$I_z = \\frac{1}{12}m l^2 = 4,002 \\cdot 10^{-3} \\ kg\\cdot m^2$"
   ]
  },
  {
   "cell_type": "markdown",
   "metadata": {},
   "source": [
    "### 2.3 Cilindro macizo más base\n",
    "\n",
    "Semiperiodos obtenidos: \n",
    "\n",
    "$$\n",
    "\\begin{array} {|r|r|r|}\n",
    "\\hline T/2\\ (s) & 0,42 & 0,47 & 0,43 \\\\\n",
    "\\hline \n",
    "\\end{array}\n",
    "$$\n",
    "\n",
    "\n"
   ]
  },
  {
   "cell_type": "code",
   "execution_count": 15,
   "metadata": {},
   "outputs": [
    {
     "name": "stdout",
     "output_type": "stream",
     "text": "Periodo:  0.8799999999999999\nMomento de inercia: 5.118e-04\nError momento de inercia: 4.259e-05\n"
    }
   ],
   "source": [
    "T = 2*np.mean([0.42,0.47,0.43])\n",
    "momento, error_momento = momento_inercia_experimental(T, k, k_error)\n",
    "print(\"Periodo: \",T)\n",
    "print(\"Momento de inercia: {:.3e}\".format(momento))\n",
    "print(\"Error momento de inercia: {:.3e}\".format(error_momento))\n"
   ]
  },
  {
   "cell_type": "markdown",
   "metadata": {},
   "source": [
    "Periodo medio: $\\overline{T} = 0,88\\ s$\n",
    "\n",
    "#### Momento de inercia experimental:\n",
    "\n",
    "$I_z \\pm \\Delta I_z = 5,112\\cdot 10^{-4} \\pm 0,460 \\cdot 10^{-4}\\ kg\\cdot m^2 $\n",
    "\n",
    "#### Momento de inercia teórico:\n",
    "\n"
   ]
  },
  {
   "cell_type": "code",
   "execution_count": 17,
   "metadata": {},
   "outputs": [
    {
     "name": "stdout",
     "output_type": "stream",
     "text": "La masa del cilindro es 9.758e-02:\nLa masa del anillo es: 1.142e-02\nEl momento teórico del cilindro es: 1.220e-04\nEl momento teórico del anillo es: 1.086e-04\nEl momento teórico del soporte es: 2.306e-04\n"
    }
   ],
   "source": [
    "# Datos cilindro soporte\n",
    "d_cil = 0.1\n",
    "h_cil=0.005\n",
    "# Datos  anillo soporte\n",
    "d_in = 0.095\n",
    "d_ext = 0.1\n",
    "h_an=0.006\n",
    "# Masa total soporte\n",
    "m=0.109\n",
    "# Volumenes cilindro y anillo\n",
    "v_cil = np.pi*h_cil*(d_cil/2)**2\n",
    "v_an = np.pi*h_an*((d_ext/2)**2-(d_in/2)**2)\n",
    "v_total = v_cil+v_an\n",
    "# Proporción cilindro y anillo\n",
    "p_cil = v_cil/v_total\n",
    "p_an = v_an/v_total\n",
    "# Masa teórica cilindro y anillo\n",
    "m_an = p_an*m\n",
    "m_cil = p_cil*m\n",
    "print(\"La masa del cilindro es {:.3e}:\".format(m_cil))\n",
    "print(\"La masa del anillo es: {:.3e}\".format(m_an))\n",
    "# Momentos teóricos cilindro y anillo\n",
    "Iz_cil = 0.5*m_cil*(d_cil/2)**2\n",
    "Iz_an = 0.5*m_an*(d_ext**2+d_in**2)\n",
    "Iz_base = Iz_cil + Iz_an\n",
    "\n",
    "print(\"El momento teórico del cilindro es: {:.3e}\".format(Iz_cil))\n",
    "print(\"El momento teórico del anillo es: {:.3e}\".format(Iz_an))\n",
    "print(\"El momento teórico del soporte es: {:.3e}\".format(Iz_base))"
   ]
  },
  {
   "cell_type": "markdown",
   "metadata": {},
   "source": [
    "#### Momento de inercia teórico:\n",
    "\n",
    "Las mediciones del cilindro macizo han dado los siguientes valores:\n",
    "\n",
    "Masa: m = 0,3461 kg\n",
    "\n",
    "Diámetro: d = 0,089 m \n",
    "\n",
    "Se han tomando medidas para que permiten aproximar la base de sujección como un cilindro de altura $h_{cil}=0,005\\ m$ y diámetro $d=0,100\\ m$ más un anillo de altura $h_{an}=0,006\\ m$ con diámetro exterior $d_{ext}=0,100\\ m$ y diámetro interior $d_{int}=0,095$.\n",
    "Suponiendo que la densidad de masa es uniforme, podemos calcular la masa del cilindro y el anillo que conforman la base como la masa total del conjunto multiplicada por la proporcion del volumen de cada elemento. La masa total de la base es $m=0,109\\ kg$.\n",
    "\n",
    "El volumen del cilindro es $V_{cilindro} = \\pi\\cdot h_{cil}(d/2)^2$.\n",
    "\n",
    "El volumen del anillo es $V_{anillo} = \\pi\\cdot h_{an}((d_{ext}/2)^2-(d_{int}/2)^2)$.\n",
    "\n",
    "El volumen total es $V_{total} = V_{anillo}+V_{cilindro}$, luego las masas del cilindro y del anillo \n",
    "son:\n",
    "\n",
    "$m_{anillo} = m \\cdot \\frac{V_{anillo}}{V_{total}} = 0,0114\\ kg$\n",
    "\n",
    "$m_{cilindro} = m \\cdot \\frac{V_{cilindro}}{V_{total}} = 0,0976\\ kg$.\n",
    "\n",
    "Ahora podemos calcular el momento de inercia de la base de sujección como la suma de los momentos del anillo\n",
    "y el cilindro que la componen:\n",
    "\n",
    "$I_z(anillo) = \\frac{1}{2} m_{anillo}\\cdot((d_{in}/2)^2+(d_{ext}/2)^2) = 1,1 \\cdot 10^{-4} kg\\cdot m^2$.\n",
    "\n",
    "$I_z(cilindro) = \\frac{1}{2} m_{cilindro} (d/2)^2= 1,2 \\cdot 10^{-4}$\n",
    "\n",
    "$I_z(base) = I_z(anillo) + I_z(cilindro) = 2,3 \\cdot 10^{-4}\\ kg\\cdot m^2.$\n",
    "\n"
   ]
  },
  {
   "cell_type": "code",
   "execution_count": 18,
   "metadata": {},
   "outputs": [
    {
     "name": "stdout",
     "output_type": "stream",
     "text": "El momento de inercio teórico del cilindro macizo es: 3.427e-04\n"
    }
   ],
   "source": [
    "d_cilindro_macizo = 0.089\n",
    "m_cilindro_macizo = 0.3461\n",
    "momento_inercia_cilindro = 0.5 * m_cilindro_macizo * (d_cilindro_macizo/2)**2\n",
    "print(\"El momento de inercio teórico del cilindro macizo es: {:.3e}\".format(momento_inercia_cilindro))"
   ]
  },
  {
   "cell_type": "markdown",
   "metadata": {},
   "source": [
    "El momento de inercia teórico del cilindro macizo es:\n",
    "\n",
    "$I_z(cilindro\\ macizo) =  \\frac{1}{2}m\\cdot(d/2)^2 = 3,4\\cdot 10^{-4}\\ kg\\cdot m^2 $\n",
    "\n",
    "y el momento de inercia del conjunto, mediante la aproximación realizada del momento de inercia de la base de sujección es\n",
    "\n",
    "$I_z (conjunto) = I_z(cilindro\\ macizo) + I_z(base)  = 5,7 \\cdot 10^{-4}\\ kg\\cdot m^2$.\n",
    "\n",
    "El momento de inercia experimental $5,1\\cdot 10^{-4} \\pm 0,4 \\cdot 10^{-4}\\ kg\\cdot m^2$ debería ser similar al valor $I_z(conjunto)$. La diferencia de valores puede deberse a errores en mediciones o errores de redondeo."
   ]
  },
  {
   "cell_type": "markdown",
   "metadata": {},
   "source": [
    "\n",
    "\n"
   ]
  },
  {
   "cell_type": "markdown",
   "metadata": {},
   "source": [
    "### 2.4 Cilindro hueco\n",
    "\n",
    "Semiperiodos obtenidos: \n",
    "\n",
    "$$\n",
    "\\begin{array} {|r|r|r|}\n",
    "\\hline T/2\\ (s) & 0,44 & 0,46 & 0,48 \\\\\n",
    "\\hline \n",
    "\\end{array}\n",
    "$$\n",
    "\n",
    "\n",
    "\n",
    "\n"
   ]
  },
  {
   "cell_type": "code",
   "execution_count": 19,
   "metadata": {},
   "outputs": [
    {
     "name": "stdout",
     "output_type": "stream",
     "text": "Periodo:  0.9199999999999999\nMomento de inercia: 5.594e-04\nError momento de inercia: 4.655e-05\n"
    }
   ],
   "source": [
    "T = 2*np.mean([0.44,0.46,0.48])\n",
    "momento, error_momento = momento_inercia_experimental(T, k, k_error)\n",
    "print(\"Periodo: \",T)\n",
    "print(\"Momento de inercia: {:.3e}\".format(momento))\n",
    "print(\"Error momento de inercia: {:.3e}\".format(error_momento))"
   ]
  },
  {
   "cell_type": "markdown",
   "metadata": {},
   "source": [
    "Periodo medio: $\\overline{T} = 0,92\\ s$\n",
    "\n",
    "#### Momento de inercia experimental:\n",
    "\n",
    "$I_z + \\Delta I_z = 5,594\\cdot 10^{-4} \\pm 0,466\\cdot 10^{-4} kg\\cdot m^2 $\n",
    "\n"
   ]
  },
  {
   "cell_type": "code",
   "execution_count": 21,
   "metadata": {},
   "outputs": [
    {
     "name": "stdout",
     "output_type": "stream",
     "text": "Momento teórico del cilindro hueco: 6.759e-04\n"
    }
   ],
   "source": [
    "m_cilindro_hueco = 0.3413\n",
    "d_exterior = 0.09\n",
    "d_interior = 0.088\n",
    "momento_cilindro_hueco = 0.5 * m_cilindro_hueco * ((d_interior/2)**2+(d_exterior/2)**2)\n",
    "print(\"Momento teórico del cilindro hueco: {:.3e}\".format(momento_cilindro_hueco))"
   ]
  },
  {
   "cell_type": "markdown",
   "metadata": {},
   "source": [
    "#### Momento de inercia teórico:\n",
    "\n",
    "Masa: m = 0,3413 kg\n",
    "\n",
    "Diámetro exterior: $d_e = 0,090\\ m$\n",
    "\n",
    "Diámetro interior: $d_i = 0,088\\ m$\n",
    "\n",
    "$I_z(cilindro\\ hueco) = \\frac{1}{2}m((d_e/2)^2+(d_i/2)^2)= 6,76 \\cdot 10^{-4}\\ kg\\cdot m^2$\n",
    "\n",
    "Si al momento de inercia del cilindro hueco, le añadimos el momento de inercia teórico de la base de sujección, calculado en la sección anterior, obtenemos el momento de inercia teórico del conjunto formado por la base más el cilindro hueco:\n",
    "\n",
    "$I_z (conjunto) = I_z(cilindro\\ hueco) + I_z(base)  = 9,06 \\cdot 10^{-4}\\ kg\\cdot m^2$\n",
    "\n",
    "El momento de inercia experimental $5,594 \\cdot 10^{-4} \\pm 0,466 \\cdot 10^{-4}\\ kg\\cdot m^2$ debería ser similar al valor $I_z(conjunto)$. La diferencia de valores puede deberse a errores en las mediciones y redondeos en los cálculos."
   ]
  },
  {
   "cell_type": "markdown",
   "metadata": {},
   "source": [
    "### 2.5 Varilla con masas puntuales\n",
    "\n",
    "Semiperiodos obtenidos: \n",
    "\n",
    "$$\n",
    "\\begin{array} {|r|r|r|}\n",
    "\\hline T/2\\ (s) & 2,39 & 2,40 & 2,41 \\\\\n",
    "\\hline \n",
    "\\end{array}\n",
    "$$\n",
    "\n",
    "\n"
   ]
  },
  {
   "cell_type": "code",
   "execution_count": 22,
   "metadata": {},
   "outputs": [
    {
     "name": "stdout",
     "output_type": "stream",
     "text": "Periodo:  4.8\nMomento de inercia: 1.523e-02\nError momento de inercia: 1.267e-03\n"
    }
   ],
   "source": [
    "T = 2*np.mean([2.39, 2.4, 2.41])\n",
    "momento, error_momento = momento_inercia_experimental(T, k, k_error)\n",
    "print(\"Periodo: \",T)\n",
    "print(\"Momento de inercia: {:.3e}\".format(momento))\n",
    "print(\"Error momento de inercia: {:.3e}\".format(error_momento))"
   ]
  },
  {
   "cell_type": "markdown",
   "metadata": {},
   "source": [
    "Periodo medio: $\\overline{T} = 4,80\\ s$\n",
    "\n",
    "#### Momento de inercia experimental:\n",
    "\n",
    "$I_z \\pm \\Delta I_z = 1.523\\cdot 10^{-2} \\pm 0,127\\cdot 10^{-2} kg\\cdot m^2 $\n",
    "\n"
   ]
  },
  {
   "cell_type": "code",
   "execution_count": 23,
   "metadata": {},
   "outputs": [
    {
     "name": "stdout",
     "output_type": "stream",
     "text": "Momento de inercia teórico de las masa puntuales: 1.370e-02\n"
    }
   ],
   "source": [
    "m_puntuales = 0.4741\n",
    "distancia_centro = 0.17\n",
    "momento_inercia_masas_puntuales = m_puntuales*distancia_centro**2\n",
    "print(\"Momento de inercia teórico de las masa puntuales: {:.3e}\".format(momento_inercia_masas_puntuales))"
   ]
  },
  {
   "cell_type": "markdown",
   "metadata": {},
   "source": [
    "#### Momento de inercia teórico:\n",
    "\n",
    "Masas (se han pesado las dos masas juntas, asumimos que tienen exactamente la misma masa): m = 0,4742 kg.\n",
    "\n",
    "Cada una de las masas es igual a $m_1=m_2=\\frac{m}{2}$\n",
    "\n",
    "Distancia de las masas al centro: 0,17 m\n",
    "\n",
    "Calculamos el momento de inercia teórico de las dos masas puntuales como\n",
    "\n",
    "$I_z(masas) = m_1 \\cdot d^2 + m_2 \\cdot d^2 = m \\cdot d^2 = 1,370\\cdot 10^{-2}\\ kg\\cdot m^2$\n",
    "\n",
    "El momento de inercia teórico del conjunto formado por las dos masas puntuales junto a la varilla (el momento teórico de la varilla fue calculado anteriormente) es la suma\n",
    "\n",
    "$I_z(masas\\ y\\ varilla) = I_z(masas) + I_z(varilla) = 1,370\\cdot 10^{-2} + 0,400\\cdot 10^{-2} = 1,770 \\cdot 10^{-2}\\ kg\\cdot m^2$."
   ]
  },
  {
   "cell_type": "markdown",
   "metadata": {},
   "source": [
    "## 3. Determinación del momento de inercia con respecto a un eje que no pasa por el centro de gravedad\n",
    "\n"
   ]
  },
  {
   "cell_type": "markdown",
   "metadata": {},
   "source": [
    "Para la determinación experimental del momento de inercia con respecto a un eje que no pasa por el centro de gravedad se han llevado a cabo dos experimentos, en el primero se ha sujetado la varilla al centro de rotación del muelle por uno de los extremos de la varilla; en el segundo experimento, se ha sujetado la varilla por un punto que está a una distancia del extremo de la varilla igual a $\\frac{1}{4}L$, siendo $L=0,605\\ m$ la longitud de la varilla. Se recuerda que la masa de la varilla es $m=0,1312\\ kg$.\n",
    "\n",
    "Se han anotado los semiperiodos con 4 cifras significativas. \n",
    "\n",
    "### Primer experimento \n",
    "\n",
    "El centro de gravedad está a una distancia $L/2$ del centro de rotación del muelle, y se obtienen los siguientes semiperiodos:\n",
    "$$\n",
    "\\begin{array} {|r|r|r|}\n",
    "\\hline T/2\\ (s) & 2,338 & 2,332 & 2,326 \\\\\n",
    "\\hline \n",
    "\\end{array}\n",
    "$$\n",
    "\n"
   ]
  },
  {
   "cell_type": "code",
   "execution_count": 24,
   "metadata": {},
   "outputs": [
    {
     "name": "stdout",
     "output_type": "stream",
     "text": "Periodo:  4.664000000000001\nMomento de inercia: 1.438e-02\nError momento de inercia: 1.196e-03\n"
    }
   ],
   "source": [
    "T = 2*np.mean([2.338, 2.332, 2.326])\n",
    "momento, error_momento = momento_inercia_experimental(T, k, k_error)\n",
    "print(\"Periodo: \",T)\n",
    "print(\"Momento de inercia: {:.3e}\".format(momento))\n",
    "print(\"Error momento de inercia: {:.3e}\".format(error_momento))"
   ]
  },
  {
   "cell_type": "markdown",
   "metadata": {},
   "source": [
    "Periodo medio: $\\overline{T} = 4,664\\ s$\n",
    "\n",
    "#### Momento de inercia experimental:\n",
    "\n",
    "$I_z + \\Delta I_z = 1,438\\cdot 10^{-2} \\pm 0,120\\cdot 10^{-2} kg\\cdot m^2 $\n",
    "\n"
   ]
  },
  {
   "cell_type": "code",
   "execution_count": 25,
   "metadata": {},
   "outputs": [
    {
     "name": "stdout",
     "output_type": "stream",
     "text": "Momento de inercia teórico (experimento 1): 1.601e-02\n"
    }
   ],
   "source": [
    "masa_varilla = 0.1312\n",
    "longitud_varilla = 0.605\n",
    "momento_teorico_exp_1 = masa_varilla * longitud_varilla**2 / 3\n",
    "print(\"Momento de inercia teórico (experimento 1): {:.3e}\".format(momento_teorico_exp_1))"
   ]
  },
  {
   "cell_type": "markdown",
   "metadata": {},
   "source": [
    "#### Momento de inercia teórico\n",
    "\n",
    "El momento de inercia teórico en este caso es \n",
    "\n",
    "$I_z = \\int_0^{L} x^2 \\frac{m}{L}\\,dx = \\frac{m\\cdot L^2}{3} = \\frac{0,1312\\cdot 0,605^2}{3} =  1,6\\cdot 10^{-2}kg\\cdot m^2$\n",
    "\n",
    "### Segundo experimento\n",
    "\n",
    "El centro de gravedad está a una distancia $L/4$ del centro de rotación del muelle, y se obtienen lo siguientes semiperiodos:\n",
    "$$\n",
    "\\begin{array} {|r|r|r|}\n",
    "\\hline T/2\\ (s) & 1,858 & 1,832 & 1,811 \\\\\n",
    "\\hline \n",
    "\\end{array}\n",
    "$$\n",
    "\n"
   ]
  },
  {
   "cell_type": "code",
   "execution_count": 26,
   "metadata": {},
   "outputs": [
    {
     "name": "stdout",
     "output_type": "stream",
     "text": "Periodo:  3.6673333333333336\nMomento de inercia: 8.889e-03\nError momento de inercia: 7.397e-04\n"
    }
   ],
   "source": [
    "T = 2*np.mean([1.858, 1.832, 1.811])\n",
    "momento, error_momento = momento_inercia_experimental(T, k, k_error)\n",
    "print(\"Periodo: \",T)\n",
    "print(\"Momento de inercia: {:.3e}\".format(momento))\n",
    "print(\"Error momento de inercia: {:.3e}\".format(error_momento))"
   ]
  },
  {
   "cell_type": "markdown",
   "metadata": {},
   "source": [
    "Periodo medio: $\\overline{T} = 3,667\\ s$\n",
    "\n",
    "#### Momento de inercia experimental:\n",
    "\n",
    "$I_z + \\Delta I_z = 8,889\\cdot 10^{-3} \\pm 0,740\\cdot 10^{-3} kg\\cdot m^2 $\n",
    "\n"
   ]
  },
  {
   "cell_type": "code",
   "execution_count": 27,
   "metadata": {},
   "outputs": [
    {
     "name": "stdout",
     "output_type": "stream",
     "text": "Momento de inercia teórico (experimento 2): 5.336e-03\n"
    }
   ],
   "source": [
    "momento_teorico_exp_2 = masa_varilla * longitud_varilla**2 / 9\n",
    "print(\"Momento de inercia teórico (experimento 2): {:.3e}\".format(momento_teorico_exp_2))"
   ]
  },
  {
   "cell_type": "markdown",
   "metadata": {},
   "source": [
    "El momento de inercia teórico en este caso es \n",
    "\n",
    "$I_z =\\int_0^{L/4} x^2 \\frac{m}{L}\\,dx + \\int_0^{3L/4} x^2 \\frac{m}{L}\\,dx =\\frac{m\\cdot L^2}{9} = \\frac{0,1312\\cdot 0,605^2}{9}=  5,34\\cdot 10^{-3}kg\\cdot m^2$"
   ]
  },
  {
   "cell_type": "markdown",
   "metadata": {},
   "source": [
    "## 3. Variación del momento de inercia en función de la distancia de las masas\n",
    "\n",
    "En este experimento se calcula el momento de inercia de la varilla con dos masas puntuales colocadas a diferentes distancias respecto al centro de rotación del muelle. \n",
    "\n",
    "En la siguiente tabla se recogen los datos del experimento: la primera columna contiene la distancia $d$ al centro de la varilla de cada una de las masas puntuales (las dos masas están a la misma distancia del centro de la varilla), la segunda, tercera y cuarta columna recogen las mediciones de los semiperiodos, la quinta columna recoge la media de los semiperiodos multiplicada por 2, valor que es empleado como medición del periodo, la última columna contiene el valor experimental obtenido para el momento de inercia (no se incluyen los errores).\n",
    "\n",
    "$$\n",
    "\\begin{array} {|r|r|r|}\n",
    "\\hline d\\ (m) & T_1/2\\ (s) & T_2/2\\ (s) & T_3/2\\ (s)& \\overline{T}\\ (s) & I_z\\ (kg\\cdot m^2)\\\\\n",
    "\\hline 0,066 & 1,404       & 1,415      & 1,424     & 2,828          & 5,28\\cdot 10^{3}   \\\\\n",
    "\\hline 0,116 & 1,813       & 1,834      & 1,852     & 3,666          & 8,88\\cdot 10^{3}   \\\\\n",
    "\\hline 0,166 & 2,650       & 2,630      & 2,620     & 5,266          & 18,33\\cdot 10^{3}   \\\\\n",
    "\\hline 0,216 & 3,240       & 3,230      & 3,220     & 6,460          & 27,58\\cdot 10^{3}   \\\\\n",
    "\\hline 0,266 & 4,012       & 3,976      & 3,946     & 7.956          & 41,84\\cdot 10^{3}   \\\\\n",
    "\\hline \n",
    "\\end{array}\n",
    "$$\n",
    "\n",
    "\n",
    "\n",
    "\n"
   ]
  },
  {
   "cell_type": "code",
   "execution_count": 28,
   "metadata": {},
   "outputs": [],
   "source": [
    "# Obtención de la regresión\n",
    "T = [2.828, 3.666, 5.266, 6.460, 7.956]\n",
    "inertia = [momento_inercia_experimental(t, k, k_error)[0] for t in T]\n",
    "L = 0.032\n",
    "d = 0.05\n",
    "ds = np.array([1,2,3,4,5])*d+L/2\n",
    "\n",
    "coeffs_inertia, residuals_inertia =  np.polyfit(ds**2, inertia, deg=1, cov=True)\n",
    "\n",
    "masas, inercia_varilla = coeffs_inertia[0], coeffs_inertia[1]\n",
    "masas_error = np.sqrt(residuals_inertia)[0,0]\n",
    "inercia_varilla_error = np.sqrt(residuals_inertia)[1,1]\n",
    "\n",
    "\n",
    "# Plot de la regresión\n",
    "plt.plot(ds**2, inertia,'.')\n",
    "ax = plt.gca()\n",
    "fig = plt.gcf()\n",
    "\n",
    "ax.set_xlabel('$d^2\\ (m^2)$')\n",
    "ax.set_ylabel('$I_z\\ (kg\\cdot m^2)$')\n",
    "fig.suptitle(\"$d^2\\ vs.\\ I_z$\")\n",
    "ax.plot(ds**2, masas*ds**2+inercia_varilla)\n",
    "fig.savefig('inertia_vs_distance.png', dpi=150)\n",
    "plt.close()"
   ]
  },
  {
   "cell_type": "markdown",
   "metadata": {},
   "source": [
    "Ajustando los datos a la recta de ecuación\n",
    "\n",
    "$I_z = M\\cdot d + b$\n",
    "\n",
    "se obtiene\n",
    "\n",
    "$M \\pm \\Delta M = 0,555 \\pm 0,015\\ kg$,\n",
    "\n",
    "$b \\pm \\Delta b = 2,33 \\cdot 10^{-3} \\pm 0,63\\cdot 10^{-3}\\ kg\\cdot m^2$.\n",
    "\n",
    "Por tanto, la estimación experimental de la suma de las masas $m_1+m_2$ obtenida es $0,555 \\pm 0,015\\ kg$, y la estimación experimental del momento de inercia de la varilla es $2,33 \\cdot 10^{-3} \\pm 0,63\\cdot 10^{-3}\\ kg\\cdot m^2$.\n",
    "\n",
    "El siguiente gráfico muestra la distancia de cada una de las masas al centro frente al momento de inercia.\n",
    "\n",
    "![caption](inertia_vs_distance.png)"
   ]
  },
  {
   "cell_type": "code",
   "execution_count": null,
   "metadata": {},
   "outputs": [],
   "source": []
  }
 ]
}